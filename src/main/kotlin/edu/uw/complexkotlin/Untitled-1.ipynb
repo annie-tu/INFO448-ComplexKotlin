{
 "cells": [
  {
   "cell_type": "code",
   "execution_count": 1,
   "metadata": {},
   "outputs": [
    {
     "name": "stdout",
     "output_type": "stream",
     "text": [
      "FIZZBUZZFIZZFIZZBUZZFIZZFIZZBUZZFIZZBUZZFIZZFIZZBUZZFIZZFIZZBUZZFIZZBUZZFIZZFIZZBUZZFIZZFIZZBUZZFIZZBUZZ\n"
     ]
    }
   ],
   "source": [
    "res = \"\"\n",
    "for num in range(1,51):\n",
    "    if num % 3 == 0 and num % 5 == 0:\n",
    "        res = res + \"FIZZBUZZ\"\n",
    "    elif num % 3 == 0:\n",
    "        res = res + \"FIZZ\"\n",
    "    elif num % 5 == 0:\n",
    "        res = res + \"BUZZ\"\n",
    "print(res)"
   ]
  },
  {
   "cell_type": "code",
   "execution_count": 8,
   "metadata": {},
   "outputs": [
    {
     "name": "stdout",
     "output_type": "stream",
     "text": [
      "FIZZBUZZFIZZFIZZBUZZFIZZFIZZBUZZFIZZBUZZFIZZFIZZBUZZFIZZFIZZBUZZFIZZBUZZFIZZFIZZBUZZFIZZFIZZBUZZFIZZBUZZFIZZFIZZBUZZFIZZFIZZBUZZFIZZBUZZFIZZFIZZBUZZFIZZFIZZBUZZFIZZBUZZFIZZFIZZBUZZFIZZFIZZBUZZFIZZBUZZFIZZFIZZBUZZ\n"
     ]
    }
   ],
   "source": [
    "res = \"\"\n",
    "for num in range(1,101):\n",
    "    if num % 3 == 0 and num % 5 == 0:\n",
    "        res = res + \"FIZZBUZZ\"\n",
    "    elif num % 3 == 0:\n",
    "        res = res + \"FIZZ\"\n",
    "    elif num % 5 == 0:\n",
    "        res = res + \"BUZZ\"\n",
    "print(res)"
   ]
  },
  {
   "cell_type": "code",
   "execution_count": 5,
   "metadata": {},
   "outputs": [
    {
     "name": "stdout",
     "output_type": "stream",
     "text": [
      "FIZZBUZZFIZZBUZZFIZZFIZZBUZZFIZZFIZZBUZZ\n"
     ]
    }
   ],
   "source": [
    "def fizzbuzz2(nums):\n",
    "    result = [\n",
    "        \"FIZZBUZZ\" if num %3 == 0 and num %5 == 0 else\n",
    "        \"FIZZ\" if num%3 == 0 else\n",
    "        \"BUZZ\" if num % 5 ==0 else\n",
    "        str(\"\")\n",
    "        for num in nums\n",
    "    ]\n",
    "    return ''.join(result)\n",
    "\n",
    "result = fizzbuzz2(range(16))\n",
    "print(result)"
   ]
  }
 ],
 "metadata": {
  "kernelspec": {
   "display_name": "Python 3",
   "language": "python",
   "name": "python3"
  },
  "language_info": {
   "codemirror_mode": {
    "name": "ipython",
    "version": 3
   },
   "file_extension": ".py",
   "mimetype": "text/x-python",
   "name": "python",
   "nbconvert_exporter": "python",
   "pygments_lexer": "ipython3",
   "version": "3.9.7"
  },
  "orig_nbformat": 4
 },
 "nbformat": 4,
 "nbformat_minor": 2
}
